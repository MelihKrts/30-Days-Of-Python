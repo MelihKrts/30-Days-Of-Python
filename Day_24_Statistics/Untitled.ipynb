{
 "cells": [
  {
   "cell_type": "code",
   "execution_count": 1,
   "id": "fff651ba",
   "metadata": {},
   "outputs": [
    {
     "name": "stdout",
     "output_type": "stream",
     "text": [
      "Collecting numpy\n",
      "  Downloading numpy-1.26.4-cp312-cp312-win_amd64.whl.metadata (61 kB)\n",
      "     ---------------------------------------- 0.0/61.0 kB ? eta -:--:--\n",
      "     ------ --------------------------------- 10.2/61.0 kB ? eta -:--:--\n",
      "     ------------ ------------------------- 20.5/61.0 kB 222.6 kB/s eta 0:00:01\n",
      "     ------------------- ------------------ 30.7/61.0 kB 220.2 kB/s eta 0:00:01\n",
      "     ------------------------------- ------ 51.2/61.0 kB 262.6 kB/s eta 0:00:01\n",
      "     -------------------------------------- 61.0/61.0 kB 271.7 kB/s eta 0:00:00\n",
      "Downloading numpy-1.26.4-cp312-cp312-win_amd64.whl (15.5 MB)\n",
      "   ---------------------------------------- 0.0/15.5 MB ? eta -:--:--\n",
      "   ---------------------------------------- 0.0/15.5 MB 991.0 kB/s eta 0:00:16\n",
      "   ---------------------------------------- 0.1/15.5 MB 1.1 MB/s eta 0:00:15\n",
      "   ---------------------------------------- 0.2/15.5 MB 1.1 MB/s eta 0:00:14\n",
      "    --------------------------------------- 0.2/15.5 MB 1.5 MB/s eta 0:00:11\n",
      "    --------------------------------------- 0.3/15.5 MB 1.4 MB/s eta 0:00:11\n",
      "    --------------------------------------- 0.3/15.5 MB 1.6 MB/s eta 0:00:10\n",
      "   - -------------------------------------- 0.4/15.5 MB 1.5 MB/s eta 0:00:11\n",
      "   - -------------------------------------- 0.6/15.5 MB 1.8 MB/s eta 0:00:09\n",
      "   -- ------------------------------------- 0.8/15.5 MB 2.0 MB/s eta 0:00:08\n",
      "   -- ------------------------------------- 1.0/15.5 MB 2.4 MB/s eta 0:00:06\n",
      "   --- ------------------------------------ 1.2/15.5 MB 2.6 MB/s eta 0:00:06\n",
      "   --- ------------------------------------ 1.5/15.5 MB 2.9 MB/s eta 0:00:05\n",
      "   ---- ----------------------------------- 1.7/15.5 MB 3.1 MB/s eta 0:00:05\n",
      "   ---- ----------------------------------- 1.7/15.5 MB 3.1 MB/s eta 0:00:05\n",
      "   ---- ----------------------------------- 1.7/15.5 MB 3.1 MB/s eta 0:00:05\n",
      "   ---- ----------------------------------- 1.7/15.5 MB 3.1 MB/s eta 0:00:05\n",
      "   ---- ----------------------------------- 1.8/15.5 MB 2.3 MB/s eta 0:00:06\n",
      "   ------- -------------------------------- 2.8/15.5 MB 3.6 MB/s eta 0:00:04\n",
      "   ------- -------------------------------- 3.1/15.5 MB 3.6 MB/s eta 0:00:04\n",
      "   -------- ------------------------------- 3.3/15.5 MB 3.7 MB/s eta 0:00:04\n",
      "   --------- ------------------------------ 3.6/15.5 MB 3.8 MB/s eta 0:00:04\n",
      "   --------- ------------------------------ 3.8/15.5 MB 3.8 MB/s eta 0:00:04\n",
      "   ---------- ----------------------------- 4.1/15.5 MB 3.9 MB/s eta 0:00:03\n",
      "   ----------- ---------------------------- 4.3/15.5 MB 3.9 MB/s eta 0:00:03\n",
      "   ----------- ---------------------------- 4.5/15.5 MB 3.9 MB/s eta 0:00:03\n",
      "   ------------ --------------------------- 4.8/15.5 MB 4.0 MB/s eta 0:00:03\n",
      "   ------------ --------------------------- 5.0/15.5 MB 4.0 MB/s eta 0:00:03\n",
      "   ------------- -------------------------- 5.2/15.5 MB 4.0 MB/s eta 0:00:03\n",
      "   -------------- ------------------------- 5.5/15.5 MB 4.1 MB/s eta 0:00:03\n",
      "   -------------- ------------------------- 5.7/15.5 MB 4.1 MB/s eta 0:00:03\n",
      "   --------------- ------------------------ 6.0/15.5 MB 4.1 MB/s eta 0:00:03\n",
      "   --------------- ------------------------ 6.2/15.5 MB 4.2 MB/s eta 0:00:03\n",
      "   ---------------- ----------------------- 6.4/15.5 MB 4.2 MB/s eta 0:00:03\n",
      "   ----------------- ---------------------- 6.7/15.5 MB 4.2 MB/s eta 0:00:03\n",
      "   ----------------- ---------------------- 6.9/15.5 MB 4.2 MB/s eta 0:00:03\n",
      "   ------------------ --------------------- 7.2/15.5 MB 4.2 MB/s eta 0:00:02\n",
      "   ------------------- -------------------- 7.4/15.5 MB 4.2 MB/s eta 0:00:02\n",
      "   ------------------- -------------------- 7.6/15.5 MB 4.3 MB/s eta 0:00:02\n",
      "   -------------------- ------------------- 7.8/15.5 MB 4.3 MB/s eta 0:00:02\n",
      "   -------------------- ------------------- 8.1/15.5 MB 4.3 MB/s eta 0:00:02\n",
      "   --------------------- ------------------ 8.3/15.5 MB 4.3 MB/s eta 0:00:02\n",
      "   --------------------- ------------------ 8.5/15.5 MB 4.3 MB/s eta 0:00:02\n",
      "   ---------------------- ----------------- 8.8/15.5 MB 4.3 MB/s eta 0:00:02\n",
      "   ----------------------- ---------------- 9.0/15.5 MB 4.3 MB/s eta 0:00:02\n",
      "   ----------------------- ---------------- 9.2/15.5 MB 4.3 MB/s eta 0:00:02\n",
      "   ------------------------ --------------- 9.4/15.5 MB 4.3 MB/s eta 0:00:02\n",
      "   ------------------------ --------------- 9.7/15.5 MB 4.3 MB/s eta 0:00:02\n",
      "   ------------------------- -------------- 9.9/15.5 MB 4.4 MB/s eta 0:00:02\n",
      "   -------------------------- ------------- 10.1/15.5 MB 4.4 MB/s eta 0:00:02\n",
      "   -------------------------- ------------- 10.3/15.5 MB 4.5 MB/s eta 0:00:02\n",
      "   --------------------------- ------------ 10.5/15.5 MB 4.6 MB/s eta 0:00:02\n",
      "   --------------------------- ------------ 10.8/15.5 MB 4.8 MB/s eta 0:00:01\n",
      "   ---------------------------- ----------- 11.0/15.5 MB 4.9 MB/s eta 0:00:01\n",
      "   ----------------------------- ---------- 11.3/15.5 MB 4.8 MB/s eta 0:00:01\n",
      "   ----------------------------- ---------- 11.3/15.5 MB 4.8 MB/s eta 0:00:01\n",
      "   ----------------------------- ---------- 11.3/15.5 MB 4.8 MB/s eta 0:00:01\n",
      "   ----------------------------- ---------- 11.3/15.5 MB 4.8 MB/s eta 0:00:01\n",
      "   ----------------------------- ---------- 11.4/15.5 MB 4.5 MB/s eta 0:00:01\n",
      "   ------------------------------- -------- 12.4/15.5 MB 5.1 MB/s eta 0:00:01\n",
      "   -------------------------------- ------- 12.6/15.5 MB 5.0 MB/s eta 0:00:01\n",
      "   -------------------------------- ------- 12.8/15.5 MB 4.9 MB/s eta 0:00:01\n",
      "   --------------------------------- ------ 13.0/15.5 MB 4.8 MB/s eta 0:00:01\n",
      "   --------------------------------- ------ 13.2/15.5 MB 4.8 MB/s eta 0:00:01\n",
      "   ---------------------------------- ----- 13.4/15.5 MB 4.8 MB/s eta 0:00:01\n",
      "   ----------------------------------- ---- 13.7/15.5 MB 4.8 MB/s eta 0:00:01\n",
      "   ----------------------------------- ---- 13.9/15.5 MB 4.8 MB/s eta 0:00:01\n",
      "   ------------------------------------ --- 14.2/15.5 MB 4.8 MB/s eta 0:00:01\n",
      "   ------------------------------------- -- 14.4/15.5 MB 4.8 MB/s eta 0:00:01\n",
      "   ------------------------------------- -- 14.6/15.5 MB 4.8 MB/s eta 0:00:01\n",
      "   -------------------------------------- - 14.8/15.5 MB 4.8 MB/s eta 0:00:01\n",
      "   -------------------------------------- - 15.0/15.5 MB 4.8 MB/s eta 0:00:01\n",
      "   ---------------------------------------  15.3/15.5 MB 4.8 MB/s eta 0:00:01\n",
      "   ---------------------------------------  15.5/15.5 MB 4.8 MB/s eta 0:00:01\n",
      "   ---------------------------------------  15.5/15.5 MB 4.8 MB/s eta 0:00:01\n",
      "   ---------------------------------------- 15.5/15.5 MB 4.7 MB/s eta 0:00:00\n",
      "Installing collected packages: numpy\n",
      "Successfully installed numpy-1.26.4\n",
      "Note: you may need to restart the kernel to use updated packages.\n"
     ]
    }
   ],
   "source": [
    "%pip install numpy"
   ]
  },
  {
   "cell_type": "code",
   "execution_count": 1,
   "id": "964b9826-8662-4fd6-a023-abffef7a537b",
   "metadata": {},
   "outputs": [],
   "source": [
    "import numpy as np"
   ]
  },
  {
   "cell_type": "code",
   "execution_count": 2,
   "id": "12d21ab4-9260-4f83-9350-5351fc5779dc",
   "metadata": {},
   "outputs": [
    {
     "name": "stdout",
     "output_type": "stream",
     "text": [
      "numpy 1.26.4\n"
     ]
    }
   ],
   "source": [
    "print(\"numpy\", np.__version__)"
   ]
  },
  {
   "cell_type": "code",
   "execution_count": 3,
   "id": "fc076b5a-9345-4d09-ae92-259d67820a5d",
   "metadata": {},
   "outputs": [
    {
     "name": "stdout",
     "output_type": "stream",
     "text": [
      "['ALLOW_THREADS', 'BUFSIZE', 'CLIP', 'DataSource', 'ERR_CALL', 'ERR_DEFAULT', 'ERR_IGNORE', 'ERR_LOG', 'ERR_PRINT', 'ERR_RAISE', 'ERR_WARN', 'FLOATING_POINT_SUPPORT', 'FPE_DIVIDEBYZERO', 'FPE_INVALID', 'FPE_OVERFLOW', 'FPE_UNDERFLOW', 'False_', 'Inf', 'Infinity', 'MAXDIMS', 'MAY_SHARE_BOUNDS', 'MAY_SHARE_EXACT', 'NAN', 'NINF', 'NZERO', 'NaN', 'PINF', 'PZERO', 'RAISE', 'RankWarning', 'SHIFT_DIVIDEBYZERO', 'SHIFT_INVALID', 'SHIFT_OVERFLOW', 'SHIFT_UNDERFLOW', 'ScalarType', 'True_', 'UFUNC_BUFSIZE_DEFAULT', 'UFUNC_PYVALS_NAME', 'WRAP', '_CopyMode', '_NoValue', '_UFUNC_API', '__NUMPY_SETUP__', '__all__', '__builtins__', '__cached__', '__config__', '__deprecated_attrs__', '__dir__', '__doc__', '__expired_functions__', '__file__', '__former_attrs__', '__future_scalars__', '__getattr__', '__loader__', '__name__', '__package__', '__path__', '__spec__', '__version__', '_add_newdoc_ufunc', '_builtins', '_distributor_init', '_financial_names', '_get_promotion_state', '_globals', '_int_extended_msg', '_mat', '_no_nep50_warning', '_pyinstaller_hooks_dir', '_pytesttester', '_set_promotion_state', '_specific_msg', '_typing', '_using_numpy2_behavior', '_utils', 'abs', 'absolute', 'add', 'add_docstring', 'add_newdoc', 'add_newdoc_ufunc', 'all', 'allclose', 'alltrue', 'amax', 'amin', 'angle', 'any', 'append', 'apply_along_axis', 'apply_over_axes', 'arange', 'arccos', 'arccosh', 'arcsin', 'arcsinh', 'arctan', 'arctan2', 'arctanh', 'argmax', 'argmin', 'argpartition', 'argsort', 'argwhere', 'around', 'array', 'array2string', 'array_equal', 'array_equiv', 'array_repr', 'array_split', 'array_str', 'asanyarray', 'asarray', 'asarray_chkfinite', 'ascontiguousarray', 'asfarray', 'asfortranarray', 'asmatrix', 'atleast_1d', 'atleast_2d', 'atleast_3d', 'average', 'bartlett', 'base_repr', 'binary_repr', 'bincount', 'bitwise_and', 'bitwise_not', 'bitwise_or', 'bitwise_xor', 'blackman', 'block', 'bmat', 'bool_', 'broadcast', 'broadcast_arrays', 'broadcast_shapes', 'broadcast_to', 'busday_count', 'busday_offset', 'busdaycalendar', 'byte', 'byte_bounds', 'bytes_', 'c_', 'can_cast', 'cast', 'cbrt', 'cdouble', 'ceil', 'cfloat', 'char', 'character', 'chararray', 'choose', 'clip', 'clongdouble', 'clongfloat', 'column_stack', 'common_type', 'compare_chararrays', 'compat', 'complex128', 'complex64', 'complex_', 'complexfloating', 'compress', 'concatenate', 'conj', 'conjugate', 'convolve', 'copy', 'copysign', 'copyto', 'corrcoef', 'correlate', 'cos', 'cosh', 'count_nonzero', 'cov', 'cross', 'csingle', 'ctypeslib', 'cumprod', 'cumproduct', 'cumsum', 'datetime64', 'datetime_as_string', 'datetime_data', 'deg2rad', 'degrees', 'delete', 'deprecate', 'deprecate_with_doc', 'diag', 'diag_indices', 'diag_indices_from', 'diagflat', 'diagonal', 'diff', 'digitize', 'disp', 'divide', 'divmod', 'dot', 'double', 'dsplit', 'dstack', 'dtype', 'dtypes', 'e', 'ediff1d', 'einsum', 'einsum_path', 'emath', 'empty', 'empty_like', 'equal', 'errstate', 'euler_gamma', 'exceptions', 'exp', 'exp2', 'expand_dims', 'expm1', 'extract', 'eye', 'fabs', 'fastCopyAndTranspose', 'fft', 'fill_diagonal', 'find_common_type', 'finfo', 'fix', 'flatiter', 'flatnonzero', 'flexible', 'flip', 'fliplr', 'flipud', 'float16', 'float32', 'float64', 'float_', 'float_power', 'floating', 'floor', 'floor_divide', 'fmax', 'fmin', 'fmod', 'format_float_positional', 'format_float_scientific', 'format_parser', 'frexp', 'from_dlpack', 'frombuffer', 'fromfile', 'fromfunction', 'fromiter', 'frompyfunc', 'fromregex', 'fromstring', 'full', 'full_like', 'gcd', 'generic', 'genfromtxt', 'geomspace', 'get_array_wrap', 'get_include', 'get_printoptions', 'getbufsize', 'geterr', 'geterrcall', 'geterrobj', 'gradient', 'greater', 'greater_equal', 'half', 'hamming', 'hanning', 'heaviside', 'histogram', 'histogram2d', 'histogram_bin_edges', 'histogramdd', 'hsplit', 'hstack', 'hypot', 'i0', 'identity', 'iinfo', 'imag', 'in1d', 'index_exp', 'indices', 'inexact', 'inf', 'info', 'infty', 'inner', 'insert', 'int16', 'int32', 'int64', 'int8', 'int_', 'intc', 'integer', 'interp', 'intersect1d', 'intp', 'invert', 'is_busday', 'isclose', 'iscomplex', 'iscomplexobj', 'isfinite', 'isfortran', 'isin', 'isinf', 'isnan', 'isnat', 'isneginf', 'isposinf', 'isreal', 'isrealobj', 'isscalar', 'issctype', 'issubclass_', 'issubdtype', 'issubsctype', 'iterable', 'ix_', 'kaiser', 'kron', 'lcm', 'ldexp', 'left_shift', 'less', 'less_equal', 'lexsort', 'lib', 'linalg', 'linspace', 'little_endian', 'load', 'loadtxt', 'log', 'log10', 'log1p', 'log2', 'logaddexp', 'logaddexp2', 'logical_and', 'logical_not', 'logical_or', 'logical_xor', 'logspace', 'longcomplex', 'longdouble', 'longfloat', 'longlong', 'lookfor', 'ma', 'mask_indices', 'mat', 'matmul', 'matrix', 'max', 'maximum', 'maximum_sctype', 'may_share_memory', 'mean', 'median', 'memmap', 'meshgrid', 'mgrid', 'min', 'min_scalar_type', 'minimum', 'mintypecode', 'mod', 'modf', 'moveaxis', 'msort', 'multiply', 'nan', 'nan_to_num', 'nanargmax', 'nanargmin', 'nancumprod', 'nancumsum', 'nanmax', 'nanmean', 'nanmedian', 'nanmin', 'nanpercentile', 'nanprod', 'nanquantile', 'nanstd', 'nansum', 'nanvar', 'nbytes', 'ndarray', 'ndenumerate', 'ndim', 'ndindex', 'nditer', 'negative', 'nested_iters', 'newaxis', 'nextafter', 'nonzero', 'not_equal', 'numarray', 'number', 'obj2sctype', 'object_', 'ogrid', 'oldnumeric', 'ones', 'ones_like', 'outer', 'packbits', 'pad', 'partition', 'percentile', 'pi', 'piecewise', 'place', 'poly', 'poly1d', 'polyadd', 'polyder', 'polydiv', 'polyfit', 'polyint', 'polymul', 'polynomial', 'polysub', 'polyval', 'positive', 'power', 'printoptions', 'prod', 'product', 'promote_types', 'ptp', 'put', 'put_along_axis', 'putmask', 'quantile', 'r_', 'rad2deg', 'radians', 'random', 'ravel', 'ravel_multi_index', 'real', 'real_if_close', 'rec', 'recarray', 'recfromcsv', 'recfromtxt', 'reciprocal', 'record', 'remainder', 'repeat', 'require', 'reshape', 'resize', 'result_type', 'right_shift', 'rint', 'roll', 'rollaxis', 'roots', 'rot90', 'round', 'round_', 'row_stack', 's_', 'safe_eval', 'save', 'savetxt', 'savez', 'savez_compressed', 'sctype2char', 'sctypeDict', 'sctypes', 'searchsorted', 'select', 'set_numeric_ops', 'set_printoptions', 'set_string_function', 'setbufsize', 'setdiff1d', 'seterr', 'seterrcall', 'seterrobj', 'setxor1d', 'shape', 'shares_memory', 'short', 'show_config', 'show_runtime', 'sign', 'signbit', 'signedinteger', 'sin', 'sinc', 'single', 'singlecomplex', 'sinh', 'size', 'sometrue', 'sort', 'sort_complex', 'source', 'spacing', 'split', 'sqrt', 'square', 'squeeze', 'stack', 'std', 'str_', 'string_', 'subtract', 'sum', 'swapaxes', 'take', 'take_along_axis', 'tan', 'tanh', 'tensordot', 'test', 'testing', 'tile', 'timedelta64', 'trace', 'tracemalloc_domain', 'transpose', 'trapz', 'tri', 'tril', 'tril_indices', 'tril_indices_from', 'trim_zeros', 'triu', 'triu_indices', 'triu_indices_from', 'true_divide', 'trunc', 'typecodes', 'typename', 'ubyte', 'ufunc', 'uint', 'uint16', 'uint32', 'uint64', 'uint8', 'uintc', 'uintp', 'ulonglong', 'unicode_', 'union1d', 'unique', 'unpackbits', 'unravel_index', 'unsignedinteger', 'unwrap', 'ushort', 'vander', 'var', 'vdot', 'vectorize', 'version', 'void', 'vsplit', 'vstack', 'where', 'who', 'zeros', 'zeros_like']\n"
     ]
    }
   ],
   "source": [
    "print(dir(np))"
   ]
  },
  {
   "cell_type": "code",
   "execution_count": 4,
   "id": "493efc79-ced8-4d6d-a886-99e1b63189a9",
   "metadata": {},
   "outputs": [
    {
     "name": "stdout",
     "output_type": "stream",
     "text": [
      "0.3010299956639812\n"
     ]
    }
   ],
   "source": [
    "print(np.log10(2))"
   ]
  },
  {
   "cell_type": "code",
   "execution_count": 5,
   "id": "e97dff08-37f7-44d8-84c8-2ea158785dc3",
   "metadata": {},
   "outputs": [
    {
     "name": "stdout",
     "output_type": "stream",
     "text": [
      "False\n"
     ]
    }
   ],
   "source": [
    "print(np.not_equal(10, 10))"
   ]
  },
  {
   "cell_type": "code",
   "execution_count": 6,
   "id": "096c33b3-8541-4c18-b489-f2c0312a6f94",
   "metadata": {},
   "outputs": [],
   "source": [
    "#  This is a markdown-style header"
   ]
  },
  {
   "cell_type": "code",
   "execution_count": 7,
   "id": "f4a76d7d-ce96-4dce-a01a-3a9a40182134",
   "metadata": {},
   "outputs": [],
   "source": [
    "python_list = [1, 2, 3]"
   ]
  },
  {
   "cell_type": "code",
   "execution_count": 8,
   "id": "b79083d5-ab85-4836-81f0-536bcd576a8c",
   "metadata": {},
   "outputs": [
    {
     "name": "stdout",
     "output_type": "stream",
     "text": [
      "<class 'list'>\n"
     ]
    }
   ],
   "source": [
    "print(type(python_list))"
   ]
  },
  {
   "cell_type": "code",
   "execution_count": 9,
   "id": "67a712f6-b5e0-4683-90bc-b22f5abd80d2",
   "metadata": {},
   "outputs": [
    {
     "name": "stdout",
     "output_type": "stream",
     "text": [
      "[1, 2, 3]\n"
     ]
    }
   ],
   "source": [
    "print(python_list)"
   ]
  },
  {
   "cell_type": "code",
   "execution_count": 2,
   "id": "33ec10ae",
   "metadata": {},
   "outputs": [],
   "source": [
    "two_dimensional_list = [[0, 1, 2], [3, 4, 5], [6, 7, 8]]"
   ]
  },
  {
   "cell_type": "code",
   "execution_count": null,
   "id": "218f83b7",
   "metadata": {},
   "outputs": [],
   "source": []
  },
  {
   "cell_type": "code",
   "execution_count": null,
   "id": "84978b32",
   "metadata": {},
   "outputs": [],
   "source": []
  }
 ],
 "metadata": {
  "kernelspec": {
   "display_name": "Python 3 (ipykernel)",
   "language": "python",
   "name": "python3"
  },
  "language_info": {
   "codemirror_mode": {
    "name": "ipython",
    "version": 3
   },
   "file_extension": ".py",
   "mimetype": "text/x-python",
   "name": "python",
   "nbconvert_exporter": "python",
   "pygments_lexer": "ipython3",
   "version": "3.12.1"
  }
 },
 "nbformat": 4,
 "nbformat_minor": 5
}
